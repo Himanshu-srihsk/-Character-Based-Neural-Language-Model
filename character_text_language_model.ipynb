{
 "cells": [
  {
   "cell_type": "code",
   "execution_count": 1,
   "metadata": {},
   "outputs": [
    {
     "name": "stderr",
     "output_type": "stream",
     "text": [
      "Using TensorFlow backend.\n"
     ]
    }
   ],
   "source": [
    "from numpy import array \n",
    "from pickle import dump \n",
    "from keras.utils import to_categorical \n",
    "from keras.utils.vis_utils import plot_model \n",
    "from keras.models import Sequential \n",
    "from keras.layers import Dense \n",
    "from keras.layers import LSTM\n",
    "from pickle import load \n",
    "from keras.models import load_model \n",
    "from keras.utils import to_categorical \n",
    "from keras.preprocessing.sequence import pad_sequences\n"
   ]
  },
  {
   "cell_type": "code",
   "execution_count": 2,
   "metadata": {},
   "outputs": [],
   "source": [
    "def load_doc(filename): \n",
    "    # open the file as read only \n",
    "    file = open(filename,'r') \n",
    "    # read all text \n",
    "    text = file.read() \n",
    "    # close the file \n",
    "    file.close() \n",
    "    return text"
   ]
  },
  {
   "cell_type": "code",
   "execution_count": 3,
   "metadata": {},
   "outputs": [
    {
     "name": "stdout",
     "output_type": "stream",
     "text": [
      "Sing a song of sixpence, A pocket full of rye. Four and twenty blackbirds, Baked in a pie.\n",
      "When the pie was opened The birds began to sing; Wasn't that a dainty dish, To set before the king.\n",
      "The king was in his counting house, Counting out his money; The queen was in the parlour, Eating bread and honey.\n",
      "The maid was in the garden, Hanging out the clothes, When down came a blackbird And pecked off her nose.\n",
      "\n"
     ]
    }
   ],
   "source": [
    "# load text \n",
    "raw_text = load_doc('rhyme.txt') \n",
    "print(raw_text)\n"
   ]
  },
  {
   "cell_type": "code",
   "execution_count": 4,
   "metadata": {},
   "outputs": [],
   "source": [
    "# clean \n",
    "tokens = raw_text.split() \n",
    "raw_text = ' '.join(tokens)\n"
   ]
  },
  {
   "cell_type": "code",
   "execution_count": 5,
   "metadata": {},
   "outputs": [
    {
     "data": {
      "text/plain": [
       "\"Sing a song of sixpence, A pocket full of rye. Four and twenty blackbirds, Baked in a pie. When the pie was opened The birds began to sing; Wasn't that a dainty dish, To set before the king. The king was in his counting house, Counting out his money; The queen was in the parlour, Eating bread and honey. The maid was in the garden, Hanging out the clothes, When down came a blackbird And pecked off her nose.\""
      ]
     },
     "execution_count": 5,
     "metadata": {},
     "output_type": "execute_result"
    }
   ],
   "source": [
    "raw_text"
   ]
  },
  {
   "cell_type": "code",
   "execution_count": 6,
   "metadata": {},
   "outputs": [
    {
     "data": {
      "text/plain": [
       "409"
      ]
     },
     "execution_count": 6,
     "metadata": {},
     "output_type": "execute_result"
    }
   ],
   "source": [
    "len(raw_text)"
   ]
  },
  {
   "cell_type": "code",
   "execution_count": 7,
   "metadata": {},
   "outputs": [
    {
     "name": "stdout",
     "output_type": "stream",
     "text": [
      "Total Sequences: 399\n"
     ]
    }
   ],
   "source": [
    "# organize into sequences of characters \n",
    "length = 10 \n",
    "sequences = list() \n",
    "for i in range(length, len(raw_text)): \n",
    "    # select sequence of tokens \n",
    "    seq = raw_text[i-length:i+1]\n",
    "    # store \n",
    "    sequences.append(seq) \n",
    "print('Total Sequences: %d' % len(sequences))"
   ]
  },
  {
   "cell_type": "code",
   "execution_count": 8,
   "metadata": {},
   "outputs": [
    {
     "data": {
      "text/plain": [
       "['Sing a song', 'ing a song ', 'ng a song o']"
      ]
     },
     "execution_count": 8,
     "metadata": {},
     "output_type": "execute_result"
    }
   ],
   "source": [
    "sequences[0:3]"
   ]
  },
  {
   "cell_type": "code",
   "execution_count": 9,
   "metadata": {},
   "outputs": [],
   "source": [
    "# save tokens to file, one dialog per line \n",
    "def save_doc(lines, filename): \n",
    "    data = '\\n'.join(lines) \n",
    "    file = open(filename, 'w') \n",
    "    file.write(data) \n",
    "    file.close()\n"
   ]
  },
  {
   "cell_type": "code",
   "execution_count": 10,
   "metadata": {},
   "outputs": [],
   "source": [
    "# save sequences to file \n",
    "out_filename = 'char_sequences.txt' \n",
    "save_doc(sequences, out_filename)\n"
   ]
  },
  {
   "cell_type": "code",
   "execution_count": 11,
   "metadata": {},
   "outputs": [],
   "source": [
    "# load \n",
    "in_filename = 'char_sequences.txt' \n",
    "raw_text = load_doc(in_filename) \n",
    "lines = raw_text.split('\\n')\n"
   ]
  },
  {
   "cell_type": "code",
   "execution_count": 12,
   "metadata": {},
   "outputs": [
    {
     "data": {
      "text/plain": [
       "['Sing a song',\n",
       " 'ing a song ',\n",
       " 'ng a song o',\n",
       " 'g a song of',\n",
       " ' a song of ',\n",
       " 'a song of s',\n",
       " ' song of si',\n",
       " 'song of six',\n",
       " 'ong of sixp',\n",
       " 'ng of sixpe',\n",
       " 'g of sixpen',\n",
       " ' of sixpenc',\n",
       " 'of sixpence',\n",
       " 'f sixpence,',\n",
       " ' sixpence, ',\n",
       " 'sixpence, A',\n",
       " 'ixpence, A ',\n",
       " 'xpence, A p',\n",
       " 'pence, A po',\n",
       " 'ence, A poc',\n",
       " 'nce, A pock',\n",
       " 'ce, A pocke',\n",
       " 'e, A pocket',\n",
       " ', A pocket ',\n",
       " ' A pocket f',\n",
       " 'A pocket fu',\n",
       " ' pocket ful',\n",
       " 'pocket full',\n",
       " 'ocket full ',\n",
       " 'cket full o',\n",
       " 'ket full of',\n",
       " 'et full of ',\n",
       " 't full of r',\n",
       " ' full of ry',\n",
       " 'full of rye',\n",
       " 'ull of rye.',\n",
       " 'll of rye. ',\n",
       " 'l of rye. F',\n",
       " ' of rye. Fo',\n",
       " 'of rye. Fou',\n",
       " 'f rye. Four',\n",
       " ' rye. Four ',\n",
       " 'rye. Four a',\n",
       " 'ye. Four an',\n",
       " 'e. Four and',\n",
       " '. Four and ',\n",
       " ' Four and t',\n",
       " 'Four and tw',\n",
       " 'our and twe',\n",
       " 'ur and twen',\n",
       " 'r and twent',\n",
       " ' and twenty',\n",
       " 'and twenty ',\n",
       " 'nd twenty b',\n",
       " 'd twenty bl',\n",
       " ' twenty bla',\n",
       " 'twenty blac',\n",
       " 'wenty black',\n",
       " 'enty blackb',\n",
       " 'nty blackbi',\n",
       " 'ty blackbir',\n",
       " 'y blackbird',\n",
       " ' blackbirds',\n",
       " 'blackbirds,',\n",
       " 'lackbirds, ',\n",
       " 'ackbirds, B',\n",
       " 'ckbirds, Ba',\n",
       " 'kbirds, Bak',\n",
       " 'birds, Bake',\n",
       " 'irds, Baked',\n",
       " 'rds, Baked ',\n",
       " 'ds, Baked i',\n",
       " 's, Baked in',\n",
       " ', Baked in ',\n",
       " ' Baked in a',\n",
       " 'Baked in a ',\n",
       " 'aked in a p',\n",
       " 'ked in a pi',\n",
       " 'ed in a pie',\n",
       " 'd in a pie.',\n",
       " ' in a pie. ',\n",
       " 'in a pie. W',\n",
       " 'n a pie. Wh',\n",
       " ' a pie. Whe',\n",
       " 'a pie. When',\n",
       " ' pie. When ',\n",
       " 'pie. When t',\n",
       " 'ie. When th',\n",
       " 'e. When the',\n",
       " '. When the ',\n",
       " ' When the p',\n",
       " 'When the pi',\n",
       " 'hen the pie',\n",
       " 'en the pie ',\n",
       " 'n the pie w',\n",
       " ' the pie wa',\n",
       " 'the pie was',\n",
       " 'he pie was ',\n",
       " 'e pie was o',\n",
       " ' pie was op',\n",
       " 'pie was ope',\n",
       " 'ie was open',\n",
       " 'e was opene',\n",
       " ' was opened',\n",
       " 'was opened ',\n",
       " 'as opened T',\n",
       " 's opened Th',\n",
       " ' opened The',\n",
       " 'opened The ',\n",
       " 'pened The b',\n",
       " 'ened The bi',\n",
       " 'ned The bir',\n",
       " 'ed The bird',\n",
       " 'd The birds',\n",
       " ' The birds ',\n",
       " 'The birds b',\n",
       " 'he birds be',\n",
       " 'e birds beg',\n",
       " ' birds bega',\n",
       " 'birds began',\n",
       " 'irds began ',\n",
       " 'rds began t',\n",
       " 'ds began to',\n",
       " 's began to ',\n",
       " ' began to s',\n",
       " 'began to si',\n",
       " 'egan to sin',\n",
       " 'gan to sing',\n",
       " 'an to sing;',\n",
       " 'n to sing; ',\n",
       " ' to sing; W',\n",
       " 'to sing; Wa',\n",
       " 'o sing; Was',\n",
       " ' sing; Wasn',\n",
       " \"sing; Wasn'\",\n",
       " \"ing; Wasn't\",\n",
       " \"ng; Wasn't \",\n",
       " \"g; Wasn't t\",\n",
       " \"; Wasn't th\",\n",
       " \" Wasn't tha\",\n",
       " \"Wasn't that\",\n",
       " \"asn't that \",\n",
       " \"sn't that a\",\n",
       " \"n't that a \",\n",
       " \"'t that a d\",\n",
       " 't that a da',\n",
       " ' that a dai',\n",
       " 'that a dain',\n",
       " 'hat a daint',\n",
       " 'at a dainty',\n",
       " 't a dainty ',\n",
       " ' a dainty d',\n",
       " 'a dainty di',\n",
       " ' dainty dis',\n",
       " 'dainty dish',\n",
       " 'ainty dish,',\n",
       " 'inty dish, ',\n",
       " 'nty dish, T',\n",
       " 'ty dish, To',\n",
       " 'y dish, To ',\n",
       " ' dish, To s',\n",
       " 'dish, To se',\n",
       " 'ish, To set',\n",
       " 'sh, To set ',\n",
       " 'h, To set b',\n",
       " ', To set be',\n",
       " ' To set bef',\n",
       " 'To set befo',\n",
       " 'o set befor',\n",
       " ' set before',\n",
       " 'set before ',\n",
       " 'et before t',\n",
       " 't before th',\n",
       " ' before the',\n",
       " 'before the ',\n",
       " 'efore the k',\n",
       " 'fore the ki',\n",
       " 'ore the kin',\n",
       " 're the king',\n",
       " 'e the king.',\n",
       " ' the king. ',\n",
       " 'the king. T',\n",
       " 'he king. Th',\n",
       " 'e king. The',\n",
       " ' king. The ',\n",
       " 'king. The k',\n",
       " 'ing. The ki',\n",
       " 'ng. The kin',\n",
       " 'g. The king',\n",
       " '. The king ',\n",
       " ' The king w',\n",
       " 'The king wa',\n",
       " 'he king was',\n",
       " 'e king was ',\n",
       " ' king was i',\n",
       " 'king was in',\n",
       " 'ing was in ',\n",
       " 'ng was in h',\n",
       " 'g was in hi',\n",
       " ' was in his',\n",
       " 'was in his ',\n",
       " 'as in his c',\n",
       " 's in his co',\n",
       " ' in his cou',\n",
       " 'in his coun',\n",
       " 'n his count',\n",
       " ' his counti',\n",
       " 'his countin',\n",
       " 'is counting',\n",
       " 's counting ',\n",
       " ' counting h',\n",
       " 'counting ho',\n",
       " 'ounting hou',\n",
       " 'unting hous',\n",
       " 'nting house',\n",
       " 'ting house,',\n",
       " 'ing house, ',\n",
       " 'ng house, C',\n",
       " 'g house, Co',\n",
       " ' house, Cou',\n",
       " 'house, Coun',\n",
       " 'ouse, Count',\n",
       " 'use, Counti',\n",
       " 'se, Countin',\n",
       " 'e, Counting',\n",
       " ', Counting ',\n",
       " ' Counting o',\n",
       " 'Counting ou',\n",
       " 'ounting out',\n",
       " 'unting out ',\n",
       " 'nting out h',\n",
       " 'ting out hi',\n",
       " 'ing out his',\n",
       " 'ng out his ',\n",
       " 'g out his m',\n",
       " ' out his mo',\n",
       " 'out his mon',\n",
       " 'ut his mone',\n",
       " 't his money',\n",
       " ' his money;',\n",
       " 'his money; ',\n",
       " 'is money; T',\n",
       " 's money; Th',\n",
       " ' money; The',\n",
       " 'money; The ',\n",
       " 'oney; The q',\n",
       " 'ney; The qu',\n",
       " 'ey; The que',\n",
       " 'y; The quee',\n",
       " '; The queen',\n",
       " ' The queen ',\n",
       " 'The queen w',\n",
       " 'he queen wa',\n",
       " 'e queen was',\n",
       " ' queen was ',\n",
       " 'queen was i',\n",
       " 'ueen was in',\n",
       " 'een was in ',\n",
       " 'en was in t',\n",
       " 'n was in th',\n",
       " ' was in the',\n",
       " 'was in the ',\n",
       " 'as in the p',\n",
       " 's in the pa',\n",
       " ' in the par',\n",
       " 'in the parl',\n",
       " 'n the parlo',\n",
       " ' the parlou',\n",
       " 'the parlour',\n",
       " 'he parlour,',\n",
       " 'e parlour, ',\n",
       " ' parlour, E',\n",
       " 'parlour, Ea',\n",
       " 'arlour, Eat',\n",
       " 'rlour, Eati',\n",
       " 'lour, Eatin',\n",
       " 'our, Eating',\n",
       " 'ur, Eating ',\n",
       " 'r, Eating b',\n",
       " ', Eating br',\n",
       " ' Eating bre',\n",
       " 'Eating brea',\n",
       " 'ating bread',\n",
       " 'ting bread ',\n",
       " 'ing bread a',\n",
       " 'ng bread an',\n",
       " 'g bread and',\n",
       " ' bread and ',\n",
       " 'bread and h',\n",
       " 'read and ho',\n",
       " 'ead and hon',\n",
       " 'ad and hone',\n",
       " 'd and honey',\n",
       " ' and honey.',\n",
       " 'and honey. ',\n",
       " 'nd honey. T',\n",
       " 'd honey. Th',\n",
       " ' honey. The',\n",
       " 'honey. The ',\n",
       " 'oney. The m',\n",
       " 'ney. The ma',\n",
       " 'ey. The mai',\n",
       " 'y. The maid',\n",
       " '. The maid ',\n",
       " ' The maid w',\n",
       " 'The maid wa',\n",
       " 'he maid was',\n",
       " 'e maid was ',\n",
       " ' maid was i',\n",
       " 'maid was in',\n",
       " 'aid was in ',\n",
       " 'id was in t',\n",
       " 'd was in th',\n",
       " ' was in the',\n",
       " 'was in the ',\n",
       " 'as in the g',\n",
       " 's in the ga',\n",
       " ' in the gar',\n",
       " 'in the gard',\n",
       " 'n the garde',\n",
       " ' the garden',\n",
       " 'the garden,',\n",
       " 'he garden, ',\n",
       " 'e garden, H',\n",
       " ' garden, Ha',\n",
       " 'garden, Han',\n",
       " 'arden, Hang',\n",
       " 'rden, Hangi',\n",
       " 'den, Hangin',\n",
       " 'en, Hanging',\n",
       " 'n, Hanging ',\n",
       " ', Hanging o',\n",
       " ' Hanging ou',\n",
       " 'Hanging out',\n",
       " 'anging out ',\n",
       " 'nging out t',\n",
       " 'ging out th',\n",
       " 'ing out the',\n",
       " 'ng out the ',\n",
       " 'g out the c',\n",
       " ' out the cl',\n",
       " 'out the clo',\n",
       " 'ut the clot',\n",
       " 't the cloth',\n",
       " ' the clothe',\n",
       " 'the clothes',\n",
       " 'he clothes,',\n",
       " 'e clothes, ',\n",
       " ' clothes, W',\n",
       " 'clothes, Wh',\n",
       " 'lothes, Whe',\n",
       " 'othes, When',\n",
       " 'thes, When ',\n",
       " 'hes, When d',\n",
       " 'es, When do',\n",
       " 's, When dow',\n",
       " ', When down',\n",
       " ' When down ',\n",
       " 'When down c',\n",
       " 'hen down ca',\n",
       " 'en down cam',\n",
       " 'n down came',\n",
       " ' down came ',\n",
       " 'down came a',\n",
       " 'own came a ',\n",
       " 'wn came a b',\n",
       " 'n came a bl',\n",
       " ' came a bla',\n",
       " 'came a blac',\n",
       " 'ame a black',\n",
       " 'me a blackb',\n",
       " 'e a blackbi',\n",
       " ' a blackbir',\n",
       " 'a blackbird',\n",
       " ' blackbird ',\n",
       " 'blackbird A',\n",
       " 'lackbird An',\n",
       " 'ackbird And',\n",
       " 'ckbird And ',\n",
       " 'kbird And p',\n",
       " 'bird And pe',\n",
       " 'ird And pec',\n",
       " 'rd And peck',\n",
       " 'd And pecke',\n",
       " ' And pecked',\n",
       " 'And pecked ',\n",
       " 'nd pecked o',\n",
       " 'd pecked of',\n",
       " ' pecked off',\n",
       " 'pecked off ',\n",
       " 'ecked off h',\n",
       " 'cked off he',\n",
       " 'ked off her',\n",
       " 'ed off her ',\n",
       " 'd off her n',\n",
       " ' off her no',\n",
       " 'off her nos',\n",
       " 'ff her nose',\n",
       " 'f her nose.']"
      ]
     },
     "execution_count": 12,
     "metadata": {},
     "output_type": "execute_result"
    }
   ],
   "source": [
    "lines"
   ]
  },
  {
   "cell_type": "code",
   "execution_count": 13,
   "metadata": {},
   "outputs": [],
   "source": [
    "chars = sorted(list(set(raw_text))) \n",
    "mapping = dict((c, i) for i, c in enumerate(chars))"
   ]
  },
  {
   "cell_type": "code",
   "execution_count": 14,
   "metadata": {},
   "outputs": [],
   "source": [
    "#raw_text"
   ]
  },
  {
   "cell_type": "code",
   "execution_count": 15,
   "metadata": {},
   "outputs": [
    {
     "data": {
      "text/plain": [
       "{'\\n': 0,\n",
       " ' ': 1,\n",
       " \"'\": 2,\n",
       " ',': 3,\n",
       " '.': 4,\n",
       " ';': 5,\n",
       " 'A': 6,\n",
       " 'B': 7,\n",
       " 'C': 8,\n",
       " 'E': 9,\n",
       " 'F': 10,\n",
       " 'H': 11,\n",
       " 'S': 12,\n",
       " 'T': 13,\n",
       " 'W': 14,\n",
       " 'a': 15,\n",
       " 'b': 16,\n",
       " 'c': 17,\n",
       " 'd': 18,\n",
       " 'e': 19,\n",
       " 'f': 20,\n",
       " 'g': 21,\n",
       " 'h': 22,\n",
       " 'i': 23,\n",
       " 'k': 24,\n",
       " 'l': 25,\n",
       " 'm': 26,\n",
       " 'n': 27,\n",
       " 'o': 28,\n",
       " 'p': 29,\n",
       " 'q': 30,\n",
       " 'r': 31,\n",
       " 's': 32,\n",
       " 't': 33,\n",
       " 'u': 34,\n",
       " 'w': 35,\n",
       " 'x': 36,\n",
       " 'y': 37}"
      ]
     },
     "execution_count": 15,
     "metadata": {},
     "output_type": "execute_result"
    }
   ],
   "source": [
    "mapping"
   ]
  },
  {
   "cell_type": "code",
   "execution_count": 16,
   "metadata": {},
   "outputs": [],
   "source": [
    "sequences = list() \n",
    "for line in lines: \n",
    "    # integer encode line \n",
    "    encoded_seq = [mapping[char] for char in line] \n",
    "    # store \n",
    "    sequences.append(encoded_seq)\n"
   ]
  },
  {
   "cell_type": "code",
   "execution_count": 17,
   "metadata": {},
   "outputs": [
    {
     "name": "stdout",
     "output_type": "stream",
     "text": [
      "Vocabulary Size: 38\n"
     ]
    }
   ],
   "source": [
    "# vocabulary size \n",
    "vocab_size = len(mapping) \n",
    "print('Vocabulary Size: %d' % vocab_size)\n"
   ]
  },
  {
   "cell_type": "code",
   "execution_count": 18,
   "metadata": {},
   "outputs": [
    {
     "data": {
      "text/plain": [
       "[[12, 23, 27, 21, 1, 15, 1, 32, 28, 27, 21],\n",
       " [23, 27, 21, 1, 15, 1, 32, 28, 27, 21, 1]]"
      ]
     },
     "execution_count": 18,
     "metadata": {},
     "output_type": "execute_result"
    }
   ],
   "source": [
    "sequences[0:2]"
   ]
  },
  {
   "cell_type": "code",
   "execution_count": 19,
   "metadata": {},
   "outputs": [],
   "source": [
    "sequences = array(sequences) \n",
    "X, y = sequences[:,:-1], sequences[:,-1]\n"
   ]
  },
  {
   "cell_type": "code",
   "execution_count": 20,
   "metadata": {},
   "outputs": [
    {
     "data": {
      "text/plain": [
       "(array([[12, 23, 27, ..., 32, 28, 27],\n",
       "        [23, 27, 21, ..., 28, 27, 21],\n",
       "        [27, 21,  1, ..., 27, 21,  1],\n",
       "        ...,\n",
       "        [28, 20, 20, ...,  1, 27, 28],\n",
       "        [20, 20,  1, ..., 27, 28, 32],\n",
       "        [20,  1, 22, ..., 28, 32, 19]]),\n",
       " array([21,  1, 28, 20,  1, 32, 23, 36, 29, 19, 27, 17, 19,  3,  1,  6,  1,\n",
       "        29, 28, 17, 24, 19, 33,  1, 20, 34, 25, 25,  1, 28, 20,  1, 31, 37,\n",
       "        19,  4,  1, 10, 28, 34, 31,  1, 15, 27, 18,  1, 33, 35, 19, 27, 33,\n",
       "        37,  1, 16, 25, 15, 17, 24, 16, 23, 31, 18, 32,  3,  1,  7, 15, 24,\n",
       "        19, 18,  1, 23, 27,  1, 15,  1, 29, 23, 19,  4,  1, 14, 22, 19, 27,\n",
       "         1, 33, 22, 19,  1, 29, 23, 19,  1, 35, 15, 32,  1, 28, 29, 19, 27,\n",
       "        19, 18,  1, 13, 22, 19,  1, 16, 23, 31, 18, 32,  1, 16, 19, 21, 15,\n",
       "        27,  1, 33, 28,  1, 32, 23, 27, 21,  5,  1, 14, 15, 32, 27,  2, 33,\n",
       "         1, 33, 22, 15, 33,  1, 15,  1, 18, 15, 23, 27, 33, 37,  1, 18, 23,\n",
       "        32, 22,  3,  1, 13, 28,  1, 32, 19, 33,  1, 16, 19, 20, 28, 31, 19,\n",
       "         1, 33, 22, 19,  1, 24, 23, 27, 21,  4,  1, 13, 22, 19,  1, 24, 23,\n",
       "        27, 21,  1, 35, 15, 32,  1, 23, 27,  1, 22, 23, 32,  1, 17, 28, 34,\n",
       "        27, 33, 23, 27, 21,  1, 22, 28, 34, 32, 19,  3,  1,  8, 28, 34, 27,\n",
       "        33, 23, 27, 21,  1, 28, 34, 33,  1, 22, 23, 32,  1, 26, 28, 27, 19,\n",
       "        37,  5,  1, 13, 22, 19,  1, 30, 34, 19, 19, 27,  1, 35, 15, 32,  1,\n",
       "        23, 27,  1, 33, 22, 19,  1, 29, 15, 31, 25, 28, 34, 31,  3,  1,  9,\n",
       "        15, 33, 23, 27, 21,  1, 16, 31, 19, 15, 18,  1, 15, 27, 18,  1, 22,\n",
       "        28, 27, 19, 37,  4,  1, 13, 22, 19,  1, 26, 15, 23, 18,  1, 35, 15,\n",
       "        32,  1, 23, 27,  1, 33, 22, 19,  1, 21, 15, 31, 18, 19, 27,  3,  1,\n",
       "        11, 15, 27, 21, 23, 27, 21,  1, 28, 34, 33,  1, 33, 22, 19,  1, 17,\n",
       "        25, 28, 33, 22, 19, 32,  3,  1, 14, 22, 19, 27,  1, 18, 28, 35, 27,\n",
       "         1, 17, 15, 26, 19,  1, 15,  1, 16, 25, 15, 17, 24, 16, 23, 31, 18,\n",
       "         1,  6, 27, 18,  1, 29, 19, 17, 24, 19, 18,  1, 28, 20, 20,  1, 22,\n",
       "        19, 31,  1, 27, 28, 32, 19,  4]))"
      ]
     },
     "execution_count": 20,
     "metadata": {},
     "output_type": "execute_result"
    }
   ],
   "source": [
    "X,y"
   ]
  },
  {
   "cell_type": "code",
   "execution_count": 21,
   "metadata": {},
   "outputs": [],
   "source": [
    "#Next, we need to one hot encode each character\n",
    "sequences = [to_categorical(x, num_classes=vocab_size) for x in X] \n",
    "X = array(sequences) \n",
    "y = to_categorical(y, num_classes=vocab_size)\n"
   ]
  },
  {
   "cell_type": "code",
   "execution_count": 22,
   "metadata": {},
   "outputs": [
    {
     "data": {
      "text/plain": [
       "(array([[[0., 0., 0., ..., 0., 0., 0.],\n",
       "         [0., 0., 0., ..., 0., 0., 0.],\n",
       "         [0., 0., 0., ..., 0., 0., 0.],\n",
       "         ...,\n",
       "         [0., 0., 0., ..., 0., 0., 0.],\n",
       "         [0., 0., 0., ..., 0., 0., 0.],\n",
       "         [0., 0., 0., ..., 0., 0., 0.]],\n",
       " \n",
       "        [[0., 0., 0., ..., 0., 0., 0.],\n",
       "         [0., 0., 0., ..., 0., 0., 0.],\n",
       "         [0., 0., 0., ..., 0., 0., 0.],\n",
       "         ...,\n",
       "         [0., 0., 0., ..., 0., 0., 0.],\n",
       "         [0., 0., 0., ..., 0., 0., 0.],\n",
       "         [0., 0., 0., ..., 0., 0., 0.]],\n",
       " \n",
       "        [[0., 0., 0., ..., 0., 0., 0.],\n",
       "         [0., 0., 0., ..., 0., 0., 0.],\n",
       "         [0., 1., 0., ..., 0., 0., 0.],\n",
       "         ...,\n",
       "         [0., 0., 0., ..., 0., 0., 0.],\n",
       "         [0., 0., 0., ..., 0., 0., 0.],\n",
       "         [0., 1., 0., ..., 0., 0., 0.]],\n",
       " \n",
       "        ...,\n",
       " \n",
       "        [[0., 0., 0., ..., 0., 0., 0.],\n",
       "         [0., 0., 0., ..., 0., 0., 0.],\n",
       "         [0., 0., 0., ..., 0., 0., 0.],\n",
       "         ...,\n",
       "         [0., 1., 0., ..., 0., 0., 0.],\n",
       "         [0., 0., 0., ..., 0., 0., 0.],\n",
       "         [0., 0., 0., ..., 0., 0., 0.]],\n",
       " \n",
       "        [[0., 0., 0., ..., 0., 0., 0.],\n",
       "         [0., 0., 0., ..., 0., 0., 0.],\n",
       "         [0., 1., 0., ..., 0., 0., 0.],\n",
       "         ...,\n",
       "         [0., 0., 0., ..., 0., 0., 0.],\n",
       "         [0., 0., 0., ..., 0., 0., 0.],\n",
       "         [0., 0., 0., ..., 0., 0., 0.]],\n",
       " \n",
       "        [[0., 0., 0., ..., 0., 0., 0.],\n",
       "         [0., 1., 0., ..., 0., 0., 0.],\n",
       "         [0., 0., 0., ..., 0., 0., 0.],\n",
       "         ...,\n",
       "         [0., 0., 0., ..., 0., 0., 0.],\n",
       "         [0., 0., 0., ..., 0., 0., 0.],\n",
       "         [0., 0., 0., ..., 0., 0., 0.]]], dtype=float32),\n",
       " array([[0., 0., 0., ..., 0., 0., 0.],\n",
       "        [0., 1., 0., ..., 0., 0., 0.],\n",
       "        [0., 0., 0., ..., 0., 0., 0.],\n",
       "        ...,\n",
       "        [0., 0., 0., ..., 0., 0., 0.],\n",
       "        [0., 0., 0., ..., 0., 0., 0.],\n",
       "        [0., 0., 0., ..., 0., 0., 0.]], dtype=float32))"
      ]
     },
     "execution_count": 22,
     "metadata": {},
     "output_type": "execute_result"
    }
   ],
   "source": [
    "X,y"
   ]
  },
  {
   "cell_type": "code",
   "execution_count": 59,
   "metadata": {},
   "outputs": [
    {
     "data": {
      "text/plain": [
       "(399, 10, 38)"
      ]
     },
     "execution_count": 59,
     "metadata": {},
     "output_type": "execute_result"
    }
   ],
   "source": [
    "X.shape"
   ]
  },
  {
   "cell_type": "code",
   "execution_count": 60,
   "metadata": {},
   "outputs": [
    {
     "data": {
      "text/plain": [
       "(399, 38)"
      ]
     },
     "execution_count": 60,
     "metadata": {},
     "output_type": "execute_result"
    }
   ],
   "source": [
    "y.shape"
   ]
  },
  {
   "cell_type": "code",
   "execution_count": 23,
   "metadata": {},
   "outputs": [],
   "source": [
    "# define the model \n",
    "def define_model(X): \n",
    "    model = Sequential() \n",
    "    model.add(LSTM(75, input_shape=(X.shape[1], X.shape[2]))) \n",
    "    model.add(Dense(vocab_size, activation='softmax')) \n",
    "    # compile model \n",
    "    model.compile(loss='categorical_crossentropy', optimizer='adam', metrics=['accuracy']) \n",
    "    # summarize defined model \n",
    "    model.summary() \n",
    "    plot_model(model, to_file='character_text_model.png', show_shapes=True) \n",
    "    return model\n"
   ]
  },
  {
   "cell_type": "code",
   "execution_count": 24,
   "metadata": {},
   "outputs": [
    {
     "name": "stdout",
     "output_type": "stream",
     "text": [
      "WARNING:tensorflow:From C:\\Users\\Lenovo\\AppData\\Local\\conda\\conda\\envs\\tensorflow\\lib\\site-packages\\keras\\backend\\tensorflow_backend.py:74: The name tf.get_default_graph is deprecated. Please use tf.compat.v1.get_default_graph instead.\n",
      "\n",
      "WARNING:tensorflow:From C:\\Users\\Lenovo\\AppData\\Local\\conda\\conda\\envs\\tensorflow\\lib\\site-packages\\keras\\backend\\tensorflow_backend.py:517: The name tf.placeholder is deprecated. Please use tf.compat.v1.placeholder instead.\n",
      "\n",
      "WARNING:tensorflow:From C:\\Users\\Lenovo\\AppData\\Local\\conda\\conda\\envs\\tensorflow\\lib\\site-packages\\keras\\backend\\tensorflow_backend.py:4138: The name tf.random_uniform is deprecated. Please use tf.random.uniform instead.\n",
      "\n",
      "WARNING:tensorflow:From C:\\Users\\Lenovo\\AppData\\Local\\conda\\conda\\envs\\tensorflow\\lib\\site-packages\\keras\\optimizers.py:790: The name tf.train.Optimizer is deprecated. Please use tf.compat.v1.train.Optimizer instead.\n",
      "\n",
      "WARNING:tensorflow:From C:\\Users\\Lenovo\\AppData\\Local\\conda\\conda\\envs\\tensorflow\\lib\\site-packages\\keras\\backend\\tensorflow_backend.py:3295: The name tf.log is deprecated. Please use tf.math.log instead.\n",
      "\n",
      "_________________________________________________________________\n",
      "Layer (type)                 Output Shape              Param #   \n",
      "=================================================================\n",
      "lstm_1 (LSTM)                (None, 75)                34200     \n",
      "_________________________________________________________________\n",
      "dense_1 (Dense)              (None, 38)                2888      \n",
      "=================================================================\n",
      "Total params: 37,088\n",
      "Trainable params: 37,088\n",
      "Non-trainable params: 0\n",
      "_________________________________________________________________\n"
     ]
    }
   ],
   "source": [
    "model = define_model(X) "
   ]
  },
  {
   "cell_type": "code",
   "execution_count": 25,
   "metadata": {},
   "outputs": [
    {
     "name": "stdout",
     "output_type": "stream",
     "text": [
      "WARNING:tensorflow:From C:\\Users\\Lenovo\\AppData\\Local\\conda\\conda\\envs\\tensorflow\\lib\\site-packages\\tensorflow\\python\\ops\\math_grad.py:1250: add_dispatch_support.<locals>.wrapper (from tensorflow.python.ops.array_ops) is deprecated and will be removed in a future version.\n",
      "Instructions for updating:\n",
      "Use tf.where in 2.0, which has the same broadcast rule as np.where\n",
      "WARNING:tensorflow:From C:\\Users\\Lenovo\\AppData\\Local\\conda\\conda\\envs\\tensorflow\\lib\\site-packages\\keras\\backend\\tensorflow_backend.py:986: The name tf.assign_add is deprecated. Please use tf.compat.v1.assign_add instead.\n",
      "\n",
      "Epoch 1/100\n",
      " - 2s - loss: 3.6246 - acc: 0.0702\n",
      "Epoch 2/100\n",
      " - 0s - loss: 3.5600 - acc: 0.1880\n",
      "Epoch 3/100\n",
      " - 0s - loss: 3.3581 - acc: 0.1905\n",
      "Epoch 4/100\n",
      " - 0s - loss: 3.0755 - acc: 0.1905\n",
      "Epoch 5/100\n",
      " - 0s - loss: 3.0286 - acc: 0.1905\n",
      "Epoch 6/100\n",
      " - 0s - loss: 2.9963 - acc: 0.1905\n",
      "Epoch 7/100\n",
      " - 0s - loss: 2.9735 - acc: 0.1905\n",
      "Epoch 8/100\n",
      " - 0s - loss: 2.9655 - acc: 0.1905\n",
      "Epoch 9/100\n",
      " - 0s - loss: 2.9425 - acc: 0.1905\n",
      "Epoch 10/100\n",
      " - 0s - loss: 2.9231 - acc: 0.1905\n",
      "Epoch 11/100\n",
      " - 0s - loss: 2.9079 - acc: 0.1905\n",
      "Epoch 12/100\n",
      " - 0s - loss: 2.8768 - acc: 0.1905\n",
      "Epoch 13/100\n",
      " - 0s - loss: 2.8454 - acc: 0.1905\n",
      "Epoch 14/100\n",
      " - 0s - loss: 2.8093 - acc: 0.1930\n",
      "Epoch 15/100\n",
      " - 0s - loss: 2.7736 - acc: 0.2080\n",
      "Epoch 16/100\n",
      " - 0s - loss: 2.7253 - acc: 0.2256\n",
      "Epoch 17/100\n",
      " - 0s - loss: 2.6700 - acc: 0.2381\n",
      "Epoch 18/100\n",
      " - 0s - loss: 2.6234 - acc: 0.3058\n",
      "Epoch 19/100\n",
      " - 0s - loss: 2.5791 - acc: 0.2607\n",
      "Epoch 20/100\n",
      " - 0s - loss: 2.5310 - acc: 0.2782\n",
      "Epoch 21/100\n",
      " - 0s - loss: 2.4909 - acc: 0.3258\n",
      "Epoch 22/100\n",
      " - 0s - loss: 2.4355 - acc: 0.3233\n",
      "Epoch 23/100\n",
      " - 0s - loss: 2.3899 - acc: 0.3158\n",
      "Epoch 24/100\n",
      " - 0s - loss: 2.3370 - acc: 0.3383\n",
      "Epoch 25/100\n",
      " - 0s - loss: 2.2984 - acc: 0.3634\n",
      "Epoch 26/100\n",
      " - 0s - loss: 2.2662 - acc: 0.3634\n",
      "Epoch 27/100\n",
      " - 0s - loss: 2.2246 - acc: 0.3659\n",
      "Epoch 28/100\n",
      " - 0s - loss: 2.1618 - acc: 0.4085\n",
      "Epoch 29/100\n",
      " - 0s - loss: 2.1326 - acc: 0.4010\n",
      "Epoch 30/100\n",
      " - 0s - loss: 2.0880 - acc: 0.4160\n",
      "Epoch 31/100\n",
      " - 0s - loss: 2.0409 - acc: 0.4311\n",
      "Epoch 32/100\n",
      " - 0s - loss: 1.9838 - acc: 0.4436\n",
      "Epoch 33/100\n",
      " - 0s - loss: 1.9804 - acc: 0.4411\n",
      "Epoch 34/100\n",
      " - 0s - loss: 1.9300 - acc: 0.4536\n",
      "Epoch 35/100\n",
      " - 1s - loss: 1.8751 - acc: 0.4737\n",
      "Epoch 36/100\n",
      " - 0s - loss: 1.8343 - acc: 0.4987\n",
      "Epoch 37/100\n",
      " - 0s - loss: 1.7969 - acc: 0.4887\n",
      "Epoch 38/100\n",
      " - 0s - loss: 1.7472 - acc: 0.5138\n",
      "Epoch 39/100\n",
      " - 0s - loss: 1.7194 - acc: 0.5263\n",
      "Epoch 40/100\n",
      " - 0s - loss: 1.6802 - acc: 0.5414\n",
      "Epoch 41/100\n",
      " - 0s - loss: 1.6469 - acc: 0.5338\n",
      "Epoch 42/100\n",
      " - 0s - loss: 1.6047 - acc: 0.5639\n",
      "Epoch 43/100\n",
      " - 0s - loss: 1.5807 - acc: 0.5639\n",
      "Epoch 44/100\n",
      " - 0s - loss: 1.5636 - acc: 0.5714\n",
      "Epoch 45/100\n",
      " - 0s - loss: 1.5133 - acc: 0.5890\n",
      "Epoch 46/100\n",
      " - 0s - loss: 1.4607 - acc: 0.6316\n",
      "Epoch 47/100\n",
      " - 0s - loss: 1.4242 - acc: 0.6040\n",
      "Epoch 48/100\n",
      " - 0s - loss: 1.3797 - acc: 0.6341\n",
      "Epoch 49/100\n",
      " - 0s - loss: 1.3393 - acc: 0.6516\n",
      "Epoch 50/100\n",
      " - 0s - loss: 1.3112 - acc: 0.6591\n",
      "Epoch 51/100\n",
      " - 0s - loss: 1.2744 - acc: 0.6667\n",
      "Epoch 52/100\n",
      " - 0s - loss: 1.2468 - acc: 0.6717\n",
      "Epoch 53/100\n",
      " - 0s - loss: 1.2134 - acc: 0.7068\n",
      "Epoch 54/100\n",
      " - 0s - loss: 1.1835 - acc: 0.6942\n",
      "Epoch 55/100\n",
      " - 0s - loss: 1.1383 - acc: 0.7419\n",
      "Epoch 56/100\n",
      " - 0s - loss: 1.1246 - acc: 0.7343\n",
      "Epoch 57/100\n",
      " - 0s - loss: 1.0898 - acc: 0.7419\n",
      "Epoch 58/100\n",
      " - 0s - loss: 1.0358 - acc: 0.7544\n",
      "Epoch 59/100\n",
      " - 0s - loss: 0.9956 - acc: 0.7619\n",
      "Epoch 60/100\n",
      " - 0s - loss: 0.9592 - acc: 0.8020\n",
      "Epoch 61/100\n",
      " - 0s - loss: 0.9294 - acc: 0.8070\n",
      "Epoch 62/100\n",
      " - 0s - loss: 0.9103 - acc: 0.8095\n",
      "Epoch 63/100\n",
      " - 0s - loss: 0.8833 - acc: 0.8170\n",
      "Epoch 64/100\n",
      " - 0s - loss: 0.8561 - acc: 0.8596\n",
      "Epoch 65/100\n",
      " - 0s - loss: 0.8315 - acc: 0.8371\n",
      "Epoch 66/100\n",
      " - 0s - loss: 0.8047 - acc: 0.8471\n",
      "Epoch 67/100\n",
      " - 0s - loss: 0.7725 - acc: 0.8471\n",
      "Epoch 68/100\n",
      " - 0s - loss: 0.7386 - acc: 0.8822\n",
      "Epoch 69/100\n",
      " - 0s - loss: 0.7189 - acc: 0.8872\n",
      "Epoch 70/100\n",
      " - 0s - loss: 0.6775 - acc: 0.9073\n",
      "Epoch 71/100\n",
      " - 0s - loss: 0.6591 - acc: 0.9173\n",
      "Epoch 72/100\n",
      " - 0s - loss: 0.6439 - acc: 0.9148\n",
      "Epoch 73/100\n",
      " - 0s - loss: 0.6080 - acc: 0.9449\n",
      "Epoch 74/100\n",
      " - 0s - loss: 0.5923 - acc: 0.9323\n",
      "Epoch 75/100\n",
      " - 0s - loss: 0.5636 - acc: 0.9398\n",
      "Epoch 76/100\n",
      " - 0s - loss: 0.5535 - acc: 0.9373\n",
      "Epoch 77/100\n",
      " - 0s - loss: 0.5219 - acc: 0.9524\n",
      "Epoch 78/100\n",
      " - 0s - loss: 0.5070 - acc: 0.9499\n",
      "Epoch 79/100\n",
      " - 0s - loss: 0.4873 - acc: 0.9549\n",
      "Epoch 80/100\n",
      " - 0s - loss: 0.4685 - acc: 0.9649\n",
      "Epoch 81/100\n",
      " - 0s - loss: 0.4458 - acc: 0.9599\n",
      "Epoch 82/100\n",
      " - 0s - loss: 0.4272 - acc: 0.9674\n",
      "Epoch 83/100\n",
      " - 0s - loss: 0.4130 - acc: 0.9699\n",
      "Epoch 84/100\n",
      " - 0s - loss: 0.4056 - acc: 0.9724\n",
      "Epoch 85/100\n",
      " - 0s - loss: 0.3876 - acc: 0.9774\n",
      "Epoch 86/100\n",
      " - 0s - loss: 0.3667 - acc: 0.9799\n",
      "Epoch 87/100\n",
      " - 0s - loss: 0.3594 - acc: 0.9749\n",
      "Epoch 88/100\n",
      " - 0s - loss: 0.3513 - acc: 0.9799\n",
      "Epoch 89/100\n",
      " - 0s - loss: 0.3239 - acc: 0.9875\n",
      "Epoch 90/100\n",
      " - 0s - loss: 0.3141 - acc: 0.9900\n",
      "Epoch 91/100\n",
      " - 0s - loss: 0.3059 - acc: 0.9825\n",
      "Epoch 92/100\n",
      " - 0s - loss: 0.2948 - acc: 0.9825\n",
      "Epoch 93/100\n",
      " - 0s - loss: 0.2828 - acc: 0.9900\n",
      "Epoch 94/100\n",
      " - 0s - loss: 0.2737 - acc: 0.9875\n",
      "Epoch 95/100\n",
      " - 0s - loss: 0.2605 - acc: 0.9925\n",
      "Epoch 96/100\n",
      " - 0s - loss: 0.2530 - acc: 0.9900\n",
      "Epoch 97/100\n",
      " - 0s - loss: 0.2395 - acc: 0.9900\n",
      "Epoch 98/100\n",
      " - 0s - loss: 0.2297 - acc: 0.9925\n",
      "Epoch 99/100\n",
      " - 0s - loss: 0.2238 - acc: 0.9875\n",
      "Epoch 100/100\n",
      " - 0s - loss: 0.2158 - acc: 0.9925\n"
     ]
    },
    {
     "data": {
      "text/plain": [
       "<keras.callbacks.History at 0x1fdb8f32160>"
      ]
     },
     "execution_count": 25,
     "metadata": {},
     "output_type": "execute_result"
    }
   ],
   "source": [
    "# fit model \n",
    "model.fit(X, y, epochs=100, verbose=2) "
   ]
  },
  {
   "cell_type": "code",
   "execution_count": 26,
   "metadata": {},
   "outputs": [],
   "source": [
    "# save the model to file \n",
    "model.save('character_text_model.h5')\n"
   ]
  },
  {
   "cell_type": "code",
   "execution_count": 27,
   "metadata": {},
   "outputs": [],
   "source": [
    "# save the mapping \n",
    "\"\"\"\n",
    "We also save the mapping from characters to integers \n",
    "that we will need to encode any input when using the model \n",
    "and decode any output from the model.\n",
    "\"\"\"\n",
    "dump(mapping, open('mapping.pkl', 'wb'))\n"
   ]
  },
  {
   "cell_type": "code",
   "execution_count": 63,
   "metadata": {},
   "outputs": [],
   "source": [
    "# generate a sequence of characters with a language model \n",
    "def generate_seq(model, mapping, seq_length, seed_text, n_chars): \n",
    "    in_text = seed_text \n",
    "    # generate a fixed number of characters \n",
    "    for _ in range(n_chars): \n",
    "        # encode the characters as integers \n",
    "        encoded = [mapping[char] for char in in_text] \n",
    "        # truncate sequences to a fixed length \n",
    "        encoded = pad_sequences([encoded], maxlen=seq_length, truncating='pre') \n",
    "        # one hot encode \n",
    "        encoded = to_categorical(encoded, num_classes=len(mapping)) \n",
    "        encoded = encoded.reshape(1, encoded.shape[1],encoded.shape[2]) \n",
    "        # predict character \n",
    "        yhat = model.predict_classes(encoded, verbose=0) \n",
    "        # reverse map integer to character \n",
    "        \"\"\"\n",
    "        We can then decode this integer by looking up the mapping to see the character to which it maps.\n",
    "        \"\"\"\n",
    "        out_char = '' \n",
    "        for char, index in mapping.items(): \n",
    "            if index == yhat: \n",
    "                out_char = char \n",
    "                break \n",
    "        # append to input \n",
    "        in_text += out_char \n",
    "    return in_text\n"
   ]
  },
  {
   "cell_type": "code",
   "execution_count": 29,
   "metadata": {},
   "outputs": [],
   "source": [
    "# load the model \n",
    "model = load_model('character_text_model.h5')\n"
   ]
  },
  {
   "cell_type": "code",
   "execution_count": 30,
   "metadata": {},
   "outputs": [],
   "source": [
    "# load the mapping \n",
    "mapping = load(open('mapping.pkl', 'rb'))\n"
   ]
  },
  {
   "cell_type": "code",
   "execution_count": 64,
   "metadata": {},
   "outputs": [
    {
     "name": "stdout",
     "output_type": "stream",
     "text": [
      "Sing a song of sixpence, A poc\n"
     ]
    }
   ],
   "source": [
    "print(generate_seq(model, mapping, 10, 'Sing a son', 20))\n"
   ]
  },
  {
   "cell_type": "code",
   "execution_count": 47,
   "metadata": {},
   "outputs": [],
   "source": [
    "te=\"Sing a son\""
   ]
  },
  {
   "cell_type": "code",
   "execution_count": 50,
   "metadata": {},
   "outputs": [],
   "source": [
    "c=[mapping[char] for char in te]"
   ]
  },
  {
   "cell_type": "code",
   "execution_count": 51,
   "metadata": {},
   "outputs": [],
   "source": [
    "e = pad_sequences([c], maxlen=10, truncating='pre')"
   ]
  },
  {
   "cell_type": "code",
   "execution_count": 52,
   "metadata": {},
   "outputs": [
    {
     "data": {
      "text/plain": [
       "array([[12, 23, 27, 21,  1, 15,  1, 32, 28, 27]])"
      ]
     },
     "execution_count": 52,
     "metadata": {},
     "output_type": "execute_result"
    }
   ],
   "source": [
    "e"
   ]
  },
  {
   "cell_type": "code",
   "execution_count": 53,
   "metadata": {},
   "outputs": [
    {
     "data": {
      "text/plain": [
       "(1, 10)"
      ]
     },
     "execution_count": 53,
     "metadata": {},
     "output_type": "execute_result"
    }
   ],
   "source": [
    "e.shape"
   ]
  },
  {
   "cell_type": "code",
   "execution_count": 54,
   "metadata": {},
   "outputs": [],
   "source": [
    "e=to_categorical(e, num_classes=len(mapping))"
   ]
  },
  {
   "cell_type": "code",
   "execution_count": 55,
   "metadata": {},
   "outputs": [
    {
     "data": {
      "text/plain": [
       "array([[[0., 0., 0., 0., 0., 0., 0., 0., 0., 0., 0., 0., 1., 0., 0., 0.,\n",
       "         0., 0., 0., 0., 0., 0., 0., 0., 0., 0., 0., 0., 0., 0., 0., 0.,\n",
       "         0., 0., 0., 0., 0., 0.],\n",
       "        [0., 0., 0., 0., 0., 0., 0., 0., 0., 0., 0., 0., 0., 0., 0., 0.,\n",
       "         0., 0., 0., 0., 0., 0., 0., 1., 0., 0., 0., 0., 0., 0., 0., 0.,\n",
       "         0., 0., 0., 0., 0., 0.],\n",
       "        [0., 0., 0., 0., 0., 0., 0., 0., 0., 0., 0., 0., 0., 0., 0., 0.,\n",
       "         0., 0., 0., 0., 0., 0., 0., 0., 0., 0., 0., 1., 0., 0., 0., 0.,\n",
       "         0., 0., 0., 0., 0., 0.],\n",
       "        [0., 0., 0., 0., 0., 0., 0., 0., 0., 0., 0., 0., 0., 0., 0., 0.,\n",
       "         0., 0., 0., 0., 0., 1., 0., 0., 0., 0., 0., 0., 0., 0., 0., 0.,\n",
       "         0., 0., 0., 0., 0., 0.],\n",
       "        [0., 1., 0., 0., 0., 0., 0., 0., 0., 0., 0., 0., 0., 0., 0., 0.,\n",
       "         0., 0., 0., 0., 0., 0., 0., 0., 0., 0., 0., 0., 0., 0., 0., 0.,\n",
       "         0., 0., 0., 0., 0., 0.],\n",
       "        [0., 0., 0., 0., 0., 0., 0., 0., 0., 0., 0., 0., 0., 0., 0., 1.,\n",
       "         0., 0., 0., 0., 0., 0., 0., 0., 0., 0., 0., 0., 0., 0., 0., 0.,\n",
       "         0., 0., 0., 0., 0., 0.],\n",
       "        [0., 1., 0., 0., 0., 0., 0., 0., 0., 0., 0., 0., 0., 0., 0., 0.,\n",
       "         0., 0., 0., 0., 0., 0., 0., 0., 0., 0., 0., 0., 0., 0., 0., 0.,\n",
       "         0., 0., 0., 0., 0., 0.],\n",
       "        [0., 0., 0., 0., 0., 0., 0., 0., 0., 0., 0., 0., 0., 0., 0., 0.,\n",
       "         0., 0., 0., 0., 0., 0., 0., 0., 0., 0., 0., 0., 0., 0., 0., 0.,\n",
       "         1., 0., 0., 0., 0., 0.],\n",
       "        [0., 0., 0., 0., 0., 0., 0., 0., 0., 0., 0., 0., 0., 0., 0., 0.,\n",
       "         0., 0., 0., 0., 0., 0., 0., 0., 0., 0., 0., 0., 1., 0., 0., 0.,\n",
       "         0., 0., 0., 0., 0., 0.],\n",
       "        [0., 0., 0., 0., 0., 0., 0., 0., 0., 0., 0., 0., 0., 0., 0., 0.,\n",
       "         0., 0., 0., 0., 0., 0., 0., 0., 0., 0., 0., 1., 0., 0., 0., 0.,\n",
       "         0., 0., 0., 0., 0., 0.]]], dtype=float32)"
      ]
     },
     "execution_count": 55,
     "metadata": {},
     "output_type": "execute_result"
    }
   ],
   "source": [
    "e"
   ]
  },
  {
   "cell_type": "code",
   "execution_count": 56,
   "metadata": {},
   "outputs": [
    {
     "data": {
      "text/plain": [
       "(1, 10, 38)"
      ]
     },
     "execution_count": 56,
     "metadata": {},
     "output_type": "execute_result"
    }
   ],
   "source": [
    "e.shape"
   ]
  },
  {
   "cell_type": "code",
   "execution_count": 61,
   "metadata": {},
   "outputs": [],
   "source": [
    "e =e.reshape(1, e.shape[1],e.shape[2])"
   ]
  },
  {
   "cell_type": "code",
   "execution_count": 62,
   "metadata": {},
   "outputs": [
    {
     "data": {
      "text/plain": [
       "(1, 10, 38)"
      ]
     },
     "execution_count": 62,
     "metadata": {},
     "output_type": "execute_result"
    }
   ],
   "source": [
    "e.shape"
   ]
  },
  {
   "cell_type": "code",
   "execution_count": 65,
   "metadata": {},
   "outputs": [
    {
     "name": "stdout",
     "output_type": "stream",
     "text": [
      "king was in his counting house\n",
      "hello worls ;uu atteeett hhe i\n"
     ]
    }
   ],
   "source": [
    "# test mid-line \n",
    "print(generate_seq(model, mapping, 10, 'king was i', 20)) \n",
    "# test not in original \n",
    "print(generate_seq(model, mapping, 10, 'hello worl', 20))\n"
   ]
  },
  {
   "cell_type": "code",
   "execution_count": 66,
   "metadata": {},
   "outputs": [
    {
     "name": "stdout",
     "output_type": "stream",
     "text": [
      "please ent he kbrerdw  aag bbb\n"
     ]
    }
   ],
   "source": [
    "print(generate_seq(model, mapping, 10, 'please ent', 20))"
   ]
  },
  {
   "cell_type": "code",
   "execution_count": null,
   "metadata": {},
   "outputs": [],
   "source": []
  }
 ],
 "metadata": {
  "kernelspec": {
   "display_name": "Python 3",
   "language": "python",
   "name": "python3"
  },
  "language_info": {
   "codemirror_mode": {
    "name": "ipython",
    "version": 3
   },
   "file_extension": ".py",
   "mimetype": "text/x-python",
   "name": "python",
   "nbconvert_exporter": "python",
   "pygments_lexer": "ipython3",
   "version": "3.6.9"
  }
 },
 "nbformat": 4,
 "nbformat_minor": 2
}
